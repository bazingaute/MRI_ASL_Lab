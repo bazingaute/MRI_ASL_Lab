{
 "cells": [
  {
   "cell_type": "code",
   "execution_count": 1,
   "metadata": {},
   "outputs": [
    {
     "name": "stdout",
     "output_type": "stream",
     "text": [
      "------------------------------\n",
      "Set PAR                                 \n"
     ]
    }
   ],
   "source": [
    "addpath(genpath(pwd));\n",
    "\n",
    "% Set Parameters\n",
    "\n",
    "par_PASL;"
   ]
  }
 ],
 "metadata": {
  "kernelspec": {
   "display_name": "MATLAB",
   "language": "matlab",
   "name": "imatlab"
  },
  "language_info": {
   "codemirror_mode": "octave",
   "file_extension": ".m",
   "mimetype": "text/x-matlab",
   "name": "matlab",
   "nbconvert_exporter": "imatlab._exporter.MatlabExporter",
   "pygments_lexer": "matlab",
   "version": "9.2.0.538062 (R2017a)"
  }
 },
 "nbformat": 4,
 "nbformat_minor": 2
}
