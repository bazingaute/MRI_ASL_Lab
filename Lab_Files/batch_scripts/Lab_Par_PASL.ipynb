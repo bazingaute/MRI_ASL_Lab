{
 "cells": [
  {
   "cell_type": "code",
   "execution_count": 1,
   "metadata": {},
   "outputs": [
    {
     "name": "stdout",
     "output_type": "stream",
     "text": [
      "------------------------------\n",
      "Set PAR                                 \n"
     ]
    }
   ],
   "source": [
    "addpath(genpath(pwd));\n",
    "\n",
    "% Set Parameters\n",
    "\n",
    "par_PASL;"
   ]
  },
  {
   "cell_type": "code",
   "execution_count": 2,
   "metadata": {},
   "outputs": [
    {
     "name": "stdout",
     "output_type": "stream",
     "text": [
      "------------------------------\n",
      "Set PAR                                 \n",
      "batch reset orientation                 \n",
      "------------------------------                                                           ...reseti   ...reseting epi     1/  1   ...reseting epi     2/  1   ...reseting epi     3/  1   ...reseting epi     4/  1   ...reseting epi     5/  1   ...reseting epi     6/  1   ...reseting epi     7/  1   ...reseting epi     8/  1   ...reseting epi     9/  1   ...reseting epi    10/  1   ...reseting epi    11/  1   ...reseting epi    12/  1   ...reseting epi    13/  1   ...reseting epi    14/  1   ...reseting epi    15/  1   ...reseting epi    16/  1   ...reseting epi    17/  1   ...reseting epi    18/  1   ...reseting epi    19/  1   ...reseting epi    20/  1   ...reseting epi    21/  1   ...reseting epi    22/  1   ...reseting epi    23/  1   ...reseting epi    24/  1   ...reseting epi    25/  1   ...reseting epi    26/  1   ...reseting epi    27/  1   ...reseting epi    28/  1   ...reseting epi    29/  1   ...reseting epi    30/  1   ...reseting epi    31/  1   ...reseting epi    32/  1   ...reseting epi    33/  1   ...reseting epi    34/  1   ...reseting epi    35/  1   ...reseting epi    36/  1   ...reseting epi    37/  1   ...reseting epi    38/  1   ...reseting epi    39/  1   ...reseting epi    40/  1   ...reseting epi    41/  1   ...reseting epi    42/  1   ...reseting epi    43/  1   ...reseting epi    44/  1   ...reseting epi    45/  1   ...reseting epi    46/  1   ...reseting epi    47/  1   ...reseting epi    48/  1   ...reseting epi    49/  1   ...reseting epi    50/  1   ...reseting epi    51/  1   ...reseting epi    52/  1   ...reseting epi    53/  1   ...reseting epi    54/  1   ...reseting epi    55/  1   ...reseting epi    56/  1   ...reseting epi    57/  1   ...reseting epi    58/  1   ...reseting epi    59/  1   ...reseting epi    60/  1   ...reseting epi    61/  1   ...reseting epi    62/  1   ...reseting epi    63/  1   ...reseting epi    64/  1   ...reseting epi    65/  1   ...reseting epi    66/  1   ...reseting epi    67/  1   ...reseting epi    68/  1   ...reseting epi    69/  1   ...reseting epi    70/  1   ...reseting epi    71/  1   ...reseting epi    72/  1   ...reseting epi    73/  1   ...reseting epi    74/  1   ...reseting epi    75/  1   ...reseting epi    76/  1   ...reseting epi    77/  1   ...reseting epi    78/  1   ...reseting epi    79/  1   ...reseting epi    80/  1   ...reseting epi    81/  1   ...reseting epi    82/  1   ...reseting epi    83/  1   ...reseting epi    84/  1   ...reseting epi    85/  1   ...reseting epi    86/  1   ...reseting epi    87/  1   ...reseting epi    88/  1   ...reseting epi    89/  1   ...reseting epi    90/  1   ...reseting epi    91/  1   ...reseting epi    92/  1   ...reseting epi    93/  1   ...reseting epi    94/  1   ...reseting epi    95/  1   ...reseting epi    96/  1   ...reseting epi    97/  1   ...reseting epi    98/  1   ...reseting epi    99/  1   ...reseting epi   100/  1   ...reseting epi   101/  1   ...reseting epi   102/  1   ...reseting epi   103/  1   ...reseting epi   104/  1   ...reseting epi   105/  1   ...reseting epi   106/  1   ...reseting epi   107/  1   ...reseting epi   108/  1   ...reseting epi   109/  1   ...reseting epi   110/  1   ...reseting epi   111/  1   ...reseting epi   112/  1   ...reseting epi   113/  1   ...reseting epi   114/  1   ...reseting epi   115/  1   ...reseting epi   116/  1   ...reseting epi   117/  1   ...reseting epi   118/  1   ...reseting epi   119/  1   ...reseting epi   120/  1   ...reseting epi   121/  1   ...reseting epi   122/  1    ...reseting T1     1/                          ...done\n",
      "Set PAR                                 \n",
      "------------------------------\n",
      "Set Origin\n",
      "------------------------------                                                         ...seting e               seting epi do                  ...seting                seting T1  done\n",
      "Set PAR                                 \n",
      "We are now realigning raw EPI images for all subjects, just wait....\n",
      "Direct calls to spm_defauts are deprecated.\n",
      "Please use spm('Defaults',modality) or spm_get_defaults instead.\n",
      "sub #  1/  1: sub2                                                      \n",
      "SPM12: spm_realign (v6070)                         12:38:09 - 22/03/2018\n",
      "========================================================================\n",
      "Completed                               :          12:39:29 - 22/03/2018\n",
      "\n",
      "SPM12: spm_reslice (v5929)                         12:39:29 - 22/03/2018\n",
      "========================================================================\n",
      "Completed                               :          12:39:39 - 22/03/2018\n",
      "Coregistration between structural images and the functional images for all subjects, it takes a while....\n",
      "\n",
      "ans =\n",
      "\n",
      "    '\n",
      "     Now coregister sub2's data\n",
      "     '\n",
      "\n",
      "\n",
      "SPM12: spm_coreg (v6435)                           12:39:39 - 22/03/2018\n",
      "========================================================================\n",
      "Completed                               :          12:39:51 - 22/03/2018\n",
      "Smoothing the realigned functional images, it is quick....\n",
      "sub #  1/  1: sub2                                                                      ...smoothing\n",
      "ans =\n",
      "\n",
      "    '     There are 120 realigned images in this directory.'\n",
      "\n",
      "------------------------------\n",
      "Set PAR                                 \n"
     ]
    }
   ],
   "source": [
    "% set the center to the center of each images\n",
    "batch_reset_orientation_PASL;\n",
    "\n",
    "%set the center to AC\n",
    "batch_setorigin_PASL;\n",
    "\n",
    "%realign the functional images to the first functional image of eachsubject\n",
    "batch_realign_PASL;\n",
    "\n",
    "%coreg the functional images to the anatomical image\n",
    "batch_coreg_PASL;\n",
    "\n",
    "%smooth the coreged functional images\n",
    "batch_smooth_PASL;\n",
    "\n",
    "%create perfusion mask\n",
    "batch_create_mask_PASL;"
   ]
  },
  {
   "cell_type": "code",
   "execution_count": null,
   "metadata": {},
   "outputs": [],
   "source": [
    "imagescn()"
   ]
  }
 ],
 "metadata": {
  "kernelspec": {
   "display_name": "MATLAB",
   "language": "matlab",
   "name": "imatlab"
  },
  "language_info": {
   "codemirror_mode": "octave",
   "file_extension": ".m",
   "mimetype": "text/x-matlab",
   "name": "matlab",
   "nbconvert_exporter": "imatlab._exporter.MatlabExporter",
   "pygments_lexer": "matlab",
   "version": "9.2.0.538062 (R2017a)"
  }
 },
 "nbformat": 4,
 "nbformat_minor": 2
}
